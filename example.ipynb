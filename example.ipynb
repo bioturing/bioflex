{
 "cells": [
  {
   "cell_type": "markdown",
   "id": "f28804ac",
   "metadata": {},
   "source": [
    "# BIOFLEX example notebook"
   ]
  },
  {
   "cell_type": "code",
   "execution_count": 1,
   "id": "667a75db",
   "metadata": {},
   "outputs": [],
   "source": [
    "import bioflex"
   ]
  },
  {
   "cell_type": "markdown",
   "id": "6cc9f99a",
   "metadata": {},
   "source": [
    "### Create a connection and list out available databases\n",
    "Does not have access token ?\n",
    "Please register at [BioTuring Data Science](https://datascience.bioturing.com)"
   ]
  },
  {
   "cell_type": "code",
   "execution_count": 2,
   "id": "a6fe7bcc",
   "metadata": {},
   "outputs": [
    {
     "data": {
      "text/plain": [
       "[DataBase(id=\"5010c7d573ae4ff2b9691422b99aa2cd\",name=\"BioTuring database\",species=\"human\",version=1),\n",
       " DataBase(id=\"5010c7d573ae4ff2b9691422b99aa2cd\",name=\"BioTuring database\",species=\"human\",version=2),\n",
       " DataBase(id=\"5010c7d573ae4ff2b9691422b99aa2cd\",name=\"BioTuring database\",species=\"human\",version=3),\n",
       " DataBase(id=\"5010c7d573ae4ff2b9691422b99aa2cd\",name=\"BioTuring database\",species=\"mouse\",version=1),\n",
       " DataBase(id=\"5010c7d573ae4ff2b9691422b99aa2cd\",name=\"BioTuring database\",species=\"primate\",version=1)]"
      ]
     },
     "execution_count": 2,
     "metadata": {},
     "output_type": "execute_result"
    }
   ],
   "source": [
    "conn = bioflex.connect('70d2acfda3a54ca6a439069*****')\n",
    "databases = conn.databases()\n",
    "databases"
   ]
  },
  {
   "cell_type": "markdown",
   "id": "d26bdddf",
   "metadata": {},
   "source": [
    "### Using a database from list"
   ]
  },
  {
   "cell_type": "code",
   "execution_count": 3,
   "id": "20919f19",
   "metadata": {},
   "outputs": [],
   "source": [
    "using_database = databases[2]"
   ]
  },
  {
   "cell_type": "markdown",
   "id": "5dd8221f",
   "metadata": {},
   "source": [
    "### Get cell types gene expression across database"
   ]
  },
  {
   "cell_type": "code",
   "execution_count": 23,
   "id": "31bea945",
   "metadata": {},
   "outputs": [
    {
     "data": {
      "text/plain": [
       "[Summary(name=\"B cell\",sum=569738449.0,mean=4098.277566375819,rate=0.028884262036286558,count=139019.0,total=3172495),\n",
       " Summary(name=\"CD4-positive, alpha-beta T cell\",sum=10050349852.0,mean=4702.274442320307,rate=0.5542041025880377,count=2137338.0,total=2751088),\n",
       " Summary(name=\"CD4-positive, alpha-beta cytotoxic T cell\",sum=362243512.0,mean=4758.973068131059,rate=0.5755353254294702,count=76118.0,total=91026),\n",
       " Summary(name=\"CD8-positive, alpha-beta T cell\",sum=9239057247.0,mean=4722.38210576353,rate=0.5722922492023789,count=1956440.0,total=2452094),\n",
       " Summary(name=\"CD8-positive, alpha-beta cytotoxic T cell\",sum=376955768.0,mean=4697.736447247077,rate=0.5496177977478836,count=80242.0,total=105282)]"
      ]
     },
     "execution_count": 23,
     "metadata": {},
     "output_type": "execute_result"
    }
   ],
   "source": [
    "result = using_database.get_celltypes_expression_summary(['CD3D', 'CD3E'])\n",
    "result['CD3D'][:5]\n",
    "result['CD3E'][:5]"
   ]
  },
  {
   "cell_type": "markdown",
   "id": "cb26c9d9",
   "metadata": {},
   "source": [
    "### Create study instance\n",
    "For study hash ID, search from [BioTuring studies](https://talk2data.bioturing.com/studies/)"
   ]
  },
  {
   "cell_type": "code",
   "execution_count": 5,
   "id": "f281ef25",
   "metadata": {},
   "outputs": [
    {
     "data": {
      "text/plain": [
       "Study(hash_id=\"GSE96583_batch2\",title=\"Multiplexed droplet single-cell RNA-sequencing using natural genetic variation (Batch 2)\",reference=\"https://www.nature.com/articles/nbt.4042\")"
      ]
     },
     "execution_count": 5,
     "metadata": {},
     "output_type": "execute_result"
    }
   ],
   "source": [
    "study = using_database.get_study('GSE96583_batch2')\n",
    "study"
   ]
  },
  {
   "cell_type": "markdown",
   "id": "0bcdb619",
   "metadata": {},
   "source": [
    "### Take a peek at study metadata"
   ]
  },
  {
   "cell_type": "code",
   "execution_count": 6,
   "id": "2e597853",
   "metadata": {},
   "outputs": [
    {
     "data": {
      "text/plain": [
       "[Metadata(id=0,name=\"Author's cell type\",type=\"Category\"),\n",
       " Metadata(id=1,name=\"Condition\",type=\"Category\"),\n",
       " Metadata(id=2,name=\"Louvain clustering\",type=\"Category\"),\n",
       " Metadata(id=3,name=\"Multiplets\",type=\"Category\"),\n",
       " Metadata(id=4,name=\"Number of genes\",type=\"Numeric\"),\n",
       " Metadata(id=5,name=\"Number of mRNA transcripts\",type=\"Numeric\"),\n",
       " Metadata(id=6,name=\"Percentage of mitochondrial genes\",type=\"Numeric\"),\n",
       " Metadata(id=7,name=\"Quantification\",type=\"Category\"),\n",
       " Metadata(id=8,name=\"Sample ID\",type=\"Category\"),\n",
       " Metadata(id=9,name=\"Sampling site\",type=\"Category\"),\n",
       " Metadata(id=10,name=\"Sampling technique\",type=\"Category\"),\n",
       " Metadata(id=11,name=\"Sequencing platform\",type=\"Category\"),\n",
       " Metadata(id=12,name=\"Stimulation\",type=\"Category\"),\n",
       " Metadata(id=13,name=\"Storage technique\",type=\"Category\"),\n",
       " Metadata(id=14,name=\"Tissue\",type=\"Category\")]"
      ]
     },
     "execution_count": 6,
     "metadata": {},
     "output_type": "execute_result"
    }
   ],
   "source": [
    "study.metalist"
   ]
  },
  {
   "cell_type": "markdown",
   "id": "81134849",
   "metadata": {},
   "source": [
    "### Fetch a study metadata"
   ]
  },
  {
   "cell_type": "code",
   "execution_count": 11,
   "id": "1a8d4ab9",
   "metadata": {},
   "outputs": [
    {
     "data": {
      "text/plain": [
       "array([590., 795., 585., ..., 385., 531., 492.], dtype=float32)"
      ]
     },
     "execution_count": 11,
     "metadata": {},
     "output_type": "execute_result"
    }
   ],
   "source": [
    "metadata = study.metalist[4]\n",
    "metadata.fetch()\n",
    "metadata.values"
   ]
  },
  {
   "cell_type": "markdown",
   "id": "0398c731",
   "metadata": {},
   "source": [
    "### Query genes"
   ]
  },
  {
   "cell_type": "code",
   "execution_count": 12,
   "id": "37df1c94",
   "metadata": {},
   "outputs": [
    {
     "data": {
      "text/plain": [
       "<29065x2 sparse matrix of type '<class 'numpy.float32'>'\n",
       "\twith 15492 stored elements in Compressed Sparse Column format>"
      ]
     },
     "execution_count": 12,
     "metadata": {},
     "output_type": "execute_result"
    }
   ],
   "source": [
    "study.query_genes(['CD3D', 'CD3E'], bioflex.UNIT_RAW)"
   ]
  },
  {
   "cell_type": "markdown",
   "id": "b5be6f37",
   "metadata": {},
   "source": [
    "### Get study barcodes"
   ]
  },
  {
   "cell_type": "code",
   "execution_count": 24,
   "id": "6ee1b524",
   "metadata": {},
   "outputs": [
    {
     "data": {
      "text/plain": [
       "array(['GSM2560249_AAACATACCAAGCT-1', 'GSM2560249_AAACATACCCCTAC-1',\n",
       "       'GSM2560249_AAACATACCCGTAA-1', ..., 'GSM2560248_TTTGCATGGGAACG-1',\n",
       "       'GSM2560248_TTTGCATGGTCCTC-1', 'GSM2560248_TTTGCATGTTCATC-1'],\n",
       "      dtype='<U27')"
      ]
     },
     "execution_count": 24,
     "metadata": {},
     "output_type": "execute_result"
    }
   ],
   "source": [
    "np.array(study.barcodes())"
   ]
  },
  {
   "cell_type": "markdown",
   "id": "ae86b77a",
   "metadata": {},
   "source": [
    "### Get study features"
   ]
  },
  {
   "cell_type": "code",
   "execution_count": 25,
   "id": "b43d56d5",
   "metadata": {},
   "outputs": [
    {
     "data": {
      "text/plain": [
       "array(['5S_RRNA', '5_8S_RRNA', '7SK', ..., 'C17orf72', 'RP11-361K17.2',\n",
       "       'CR759784.2'], dtype='<U26')"
      ]
     },
     "execution_count": 25,
     "metadata": {},
     "output_type": "execute_result"
    }
   ],
   "source": [
    "np.array(study.features())"
   ]
  },
  {
   "cell_type": "markdown",
   "id": "e6ad457a",
   "metadata": {},
   "source": [
    "### Get study full matrix "
   ]
  },
  {
   "cell_type": "code",
   "execution_count": 22,
   "id": "766a73e8",
   "metadata": {},
   "outputs": [
    {
     "name": "stderr",
     "output_type": "stream",
     "text": [
      "Downloading: 100%|██████████| 141M/141M [01:07<00:00, 2.08Mbytes/s] \n"
     ]
    },
    {
     "data": {
      "text/plain": [
       "<29065x64642 sparse matrix of type '<class 'numpy.float32'>'\n",
       "\twith 17570739 stored elements in Compressed Sparse Column format>"
      ]
     },
     "execution_count": 22,
     "metadata": {},
     "output_type": "execute_result"
    }
   ],
   "source": [
    "study.matrix(bioflex.UNIT_LOGNORM)"
   ]
  },
  {
   "attachments": {},
   "cell_type": "markdown",
   "id": "ac02d36e",
   "metadata": {},
   "source": [
    "### Export study"
   ]
  },
  {
   "cell_type": "code",
   "execution_count": 13,
   "id": "f957b4c7",
   "metadata": {},
   "outputs": [
    {
     "data": {
      "text/plain": [
       "{'download_link': 'https://talk2data.bioturing.com/api/export/a1003bad3dd146b28c7bda913a2fc3f0',\n",
       " 'study_hash_id': 'GSE96583_batch2'}"
      ]
     },
     "execution_count": 13,
     "metadata": {},
     "output_type": "execute_result"
    }
   ],
   "source": [
    "study.export_study(bioflex.EXPORT_H5AD)"
   ]
  }
 ],
 "metadata": {
  "kernelspec": {
   "display_name": "Python 3",
   "language": "python",
   "name": "python3"
  },
  "language_info": {
   "codemirror_mode": {
    "name": "ipython",
    "version": 3
   },
   "file_extension": ".py",
   "mimetype": "text/x-python",
   "name": "python",
   "nbconvert_exporter": "python",
   "pygments_lexer": "ipython3",
   "version": "3.10.6"
  },
  "vscode": {
   "interpreter": {
    "hash": "aee8b7b246df8f9039afb4144a1f6fd8d2ca17a180786b69acc140d282b71a49"
   }
  }
 },
 "nbformat": 4,
 "nbformat_minor": 5
}
